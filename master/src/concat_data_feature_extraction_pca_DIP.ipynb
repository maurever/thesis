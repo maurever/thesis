{
 "cells": [
  {
   "cell_type": "code",
   "execution_count": null,
   "metadata": {
    "collapsed": true
   },
   "outputs": [],
   "source": [
    "import numpy as np\n",
    "from numpy.ma import masked_array\n",
    "\n",
    "import pandas as pd\n",
    "\n",
    "import time\n",
    "from tqdm import tqdm\n",
    "\n",
    "import copy\n",
    "\n",
    "import math\n",
    "\n",
    "import matplotlib.pyplot as plt\n",
    "\n",
    "from sklearn.decomposition import PCA\n",
    "\n",
    "\n",
    "raster = 200\n",
    "crime_type = \"E05\"\n",
    "date_from = \"2013-06-16\"\n",
    "date_to = \"2017-03-08\"\n",
    "dist = 5\n",
    "days = 21\n",
    "\n",
    "# insert main dir\n",
    "main_dir = \"\""
   ]
  },
  {
   "cell_type": "code",
   "execution_count": null,
   "metadata": {
    "collapsed": true
   },
   "outputs": [],
   "source": [
    "x_max_t = data_tm['x'].max()\n",
    "x_min_t = data_tm['x'].min()\n",
    "y_max_t = data_tm['y'].max()\n",
    "y_min_t = data_tm['y'].min()\n",
    "print(x_min_t, x_max_t, y_min_t, y_max_t, (-x_min_t+x_max_t)/200, (-y_min_t+y_max_t)/200)\n",
    "\n",
    "part_x = 13200\n",
    "x_min = x_min_t + part_x\n",
    "x_max = x_max_t - part_x\n",
    "recs_x = (-x_min+x_max)/200\n",
    "print(x_min, x_max, recs_x)\n",
    "\n",
    "part_y = 8400\n",
    "y_min = y_min_t + part_y\n",
    "y_max = y_max_t - part_y\n",
    "recs_y = (-y_min+y_max)/200\n",
    "print(y_min, y_max, recs_y)\n",
    "\n",
    "print(recs_x * recs_y)"
   ]
  },
  {
   "cell_type": "code",
   "execution_count": null,
   "metadata": {
    "collapsed": true
   },
   "outputs": [],
   "source": [
    "# Select sub Prague rectangles and sort by date - complet data\n",
    "data_dir = \"%s/data/%s/tmdata_complet_%d_%d_%s_%s_%s.csv\" % (main_dir, crime_type, days, raster, crime_type, date_from, date_to)\n",
    "data = pd.read_csv(data_dir)\n",
    "print(data.shape)\n",
    "\n",
    "x_min = -744800\n",
    "x_max = -734800\n",
    "y_min = -1051600\n",
    "y_max = -1041600\n",
    "\n",
    "data = data.loc[lambda data: (data.praha == 1) & (data.x200 >= x_min) & (data.x200 <= x_max) & (data.y200 >= y_min) & (data.y200 <= y_max), :]\n",
    "data.sort_values('date',inplace=True)\n",
    "print(data.shape)\n",
    "\n",
    "data_dir = \"%s/data/%s/tmdata_complet_%d_%d_%s_%s_%s_s_select.csv\" % (main_dir, crime_type, days, raster, crime_type, date_from, date_to)\n",
    "data.to_csv(data_dir, sep=\",\", index = False)\n",
    "\n",
    "data.head()"
   ]
  },
  {
   "cell_type": "code",
   "execution_count": null,
   "metadata": {
    "collapsed": true
   },
   "outputs": [],
   "source": [
    "# Select sub Prague rectangles and sort by date - tm data\n",
    "\n",
    "dir_data_tm = \"%s/data/%s/tmdata_%d_%d_%s_%s_%s.csv\" % (main_dir, crime_type, days, raster, crime_type, date_from, date_to)\n",
    "data_tm = pd.read_csv(dir_data_tm)\n",
    "\n",
    "x_min = -743800\n",
    "x_max = -735800\n",
    "y_min = -1050600\n",
    "y_max = -1042600\n",
    "\n",
    "data_tm = data_tm.loc[lambda data: (data_tm.praha == 1) & (data_tm.x >= x_min) & (data_tm.x <= x_max) & (data_tm.y >= y_min) & (data_tm.y <= y_max), :]\n",
    "data_tm.sort_values('date',inplace=True)\n",
    "print(data_tm.shape)\n",
    "\n",
    "data_dir = \"%s/data/%s/tmdata_%d_%d_%s_%s_%s_s_select.csv\" % (main_dir, crime_type, days, raster, crime_type, date_from, date_to)\n",
    "data_tm.to_csv(data_dir, sep=\",\", index = False)\n",
    "\n",
    "\n",
    "data_tm.sort_values(['date'], ascending=[1], inplace=True)\n",
    "print(data_tm.shape)"
   ]
  },
  {
   "cell_type": "code",
   "execution_count": null,
   "metadata": {
    "collapsed": true
   },
   "outputs": [],
   "source": [
    "# Select sub Prague rectangles and sort by date - neighbours data\n",
    "dir_neigh = \"%s/output/python/neighbour_arrays_%d_%s_%s_%s_x_%d_s.csv\" % (main_dir, raster,crime_type, date_from, date_to, dist)\n",
    "data = pd.read_csv(dir_neigh)\n",
    "print(data.shape)\n",
    "\n",
    "x_min = -744800\n",
    "x_max = -734800\n",
    "y_min = -1051600\n",
    "y_max = -1041600\n",
    "\n",
    "data = data.loc[lambda data: (data.x >= x_min) & (data.x <= x_max) & (data.y >= y_min) & (data.y <= y_max), :]\n",
    "data.sort_values('date',inplace=True)\n",
    "print(data.shape)\n",
    "\n",
    "dir_neigh = \"%s/output/python/neighbour_arrays_%d_%s_%s_%s_x_%d_s_select.csv\" % (main_dir, raster,crime_type, date_from, date_to, dist)\n",
    "data.to_csv(dir_neigh, sep=\",\", index = False)\n",
    "\n",
    "data.head()"
   ]
  },
  {
   "cell_type": "code",
   "execution_count": null,
   "metadata": {
    "collapsed": true
   },
   "outputs": [],
   "source": [
    "# Read neighbours data\n",
    "data_dir = \"%s/output/python/neighbour_arrays_%d_%s_%s_%s_x_%d_s_select.csv\" % (main_dir, raster,crime_type, date_from, date_to, dist)\n",
    "data_n = pd.read_csv(data_dir)\n",
    "print(data_n.shape)\n",
    "data_n.head()"
   ]
  },
  {
   "cell_type": "code",
   "execution_count": null,
   "metadata": {
    "collapsed": true
   },
   "outputs": [],
   "source": [
    "# Read complet tm data\n",
    "data_dir = \"%s/data/%s/tmdata_complet_%d_%d_%s_%s_%s_s_select.csv\" % (main_dir, crime_type, days, raster, crime_type, date_from, date_to)\n",
    "data = pd.read_csv(data_dir)\n",
    "print(data.shape)\n",
    "data_s = data.loc[lambda data: (data.praha == 1), :]\n",
    "print(data_s.shape)\n",
    "data_s.head()"
   ]
  },
  {
   "cell_type": "code",
   "execution_count": null,
   "metadata": {
    "collapsed": true
   },
   "outputs": [],
   "source": [
    "# Concat dataframes\n",
    "\n",
    "result = pd.merge(data_s, data_n, how='left', on=['id', 'date'])\n",
    "print(result.shape)\n",
    "result.head()\n",
    "data_dir = \"%s/output/python/complet_tm_neigh_%d_%s_%s_%s_x_%d_s_select.csv\" % (main_dir, raster,crime_type, date_from, date_to, dist)\n",
    "result.to_csv(data_dir, sep=\",\", index = False)"
   ]
  },
  {
   "cell_type": "code",
   "execution_count": null,
   "metadata": {
    "collapsed": true
   },
   "outputs": [],
   "source": [
    "data_dir = \"%s/output/python/complet_tm_neigh_%d_%s_%s_%s_x_%d_s_select.csv\" % (main_dir, raster,crime_type, date_from, date_to, dist)\n",
    "data = pd.read_csv(data_dir)\n",
    "print(data.shape)\n",
    "data.head()"
   ]
  },
  {
   "cell_type": "code",
   "execution_count": null,
   "metadata": {
    "collapsed": true
   },
   "outputs": [],
   "source": [
    "# Feature Extraction with PCA\n",
    "\n",
    "X_long_lat = ['d1', 'd2', 'd3', 'd4', 'd5', 'd6', 'd7', 'd8', 'd9',\n",
    "       'd10', 'd11', 'd12', 'd13', 'd14', 'd15', 'd16', 'd17', 'd18',\n",
    "       'd19', 'd20', 'd21', '0', '1', '2', '3', '4', '5', '6', '7', '8', '9', '10', '11', '12', '13',\n",
    "       '14', '15', '16', '17', '18', '19', '20', '21', '22', '23', '24',\n",
    "       '25', '26', '27', '28', '29', '30', '31', '32', '33', '34', '35',\n",
    "       '36', '37', '38', '39', '40', '41', '42', '43', '44', '45', '46',\n",
    "       '47', '48', '49', '50', '51', '52', '53', '54', '55', '56', '57',\n",
    "       '58', '59', '60', '61', '62', '63', '64', '65', '66', '67', '68',\n",
    "       '69', '70', '71', '72', '73', '74', '75', '76', '77', '78', '79',\n",
    "       '80', '81', '82', '83', '84', '85', '86', '87', '88', '89', '90',\n",
    "       '91', '92', '93', '94', '95', '96', '97', '98', '99', '100', '101',\n",
    "       '102', '103', '104', '105', '106', '107', '108', '109', '110',\n",
    "       '111', '112', '113', '114', '115', '116', '117', '118', '119',\n",
    "       '120', 'Y', 'Mo', 'W', 'WD', 'D', 'MoCat', 'lokalitarelevance', 'vzdbcs',\n",
    "       'vzdpostabanka', 'vzdprodejna', 'vzdrestaurace', 'stavobj_A', 'stavobj_B',\n",
    "       'stavobj_C', 'stavobj_D', 'stavobj_F', 'stavobj_G', 'datodHCat_1',\n",
    "       'datodHCat_2', 'datodHCat_3', 'datodHCat_4', 'datodHCat_5']\n",
    "\n",
    "features = len(X_long_lat )\n",
    "\n",
    "pca = PCA(n_components=features-1)\n",
    "fit = pca.fit(data.loc[:,X_long_lat])\n",
    "\n",
    "result =  pca.fit_transform(data.loc[:,X_long_lat])\n",
    "result.shape\n",
    "\n",
    "for i in range(result.shape[0]):\n",
    "    name = 'PCA_%d'%i\n",
    "    data[name] = result[:,i]"
   ]
  },
  {
   "cell_type": "code",
   "execution_count": null,
   "metadata": {
    "collapsed": true
   },
   "outputs": [],
   "source": [
    "data_dir = \"%s/output/python/complet_tm_neigh_%d_%s_%s_%s_x_%d_s_select_pca_all.csv\" % (main_dir, raster,crime_type, date_from, date_to, dist)\n",
    "data.to_csv(data_dir, sep=\",\", index = False)"
   ]
  },
  {
   "cell_type": "code",
   "execution_count": null,
   "metadata": {
    "collapsed": true
   },
   "outputs": [],
   "source": [
    "data_dir = \"%s/output/python/complet_tm_neigh_%d_%s_%s_%s_x_%d_s_select_pca.csv\" % (main_dir, raster,crime_type, date_from, date_to, dist)\n",
    "data = pd.read_csv(data_dir)\n",
    "print(data.shape)\n",
    "data.head()"
   ]
  }
 ],
 "metadata": {
  "kernelspec": {
   "display_name": "Python 3",
   "language": "python",
   "name": "python3"
  },
  "language_info": {
   "codemirror_mode": {
    "name": "ipython",
    "version": 3
   },
   "file_extension": ".py",
   "mimetype": "text/x-python",
   "name": "python",
   "nbconvert_exporter": "python",
   "pygments_lexer": "ipython3",
   "version": "3.4.3"
  }
 },
 "nbformat": 4,
 "nbformat_minor": 2
}
