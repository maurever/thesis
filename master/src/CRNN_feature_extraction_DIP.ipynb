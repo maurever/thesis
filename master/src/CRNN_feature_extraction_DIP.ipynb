{
 "cells": [
  {
   "cell_type": "code",
   "execution_count": null,
   "metadata": {
    "collapsed": true
   },
   "outputs": [],
   "source": [
    "import sys\n",
    "sys.path\n",
    "sys.path.append(\"./keras/lib/python3.4\")\n",
    "\n",
    "# Import libraries and modules\n",
    "import time\n",
    "from tqdm import tqdm\n",
    "\n",
    "import copy\n",
    "\n",
    "import math\n",
    "\n",
    "import seaborn as sns\n",
    "\n",
    "import matplotlib.pyplot as plt\n",
    "import matplotlib.font_manager as font_manager\n",
    "import matplotlib.gridspec as gridspec\n",
    "import matplotlib.colors as col\n",
    "\n",
    "from sklearn.metrics import roc_curve, auc\n",
    "from sklearn.metrics import precision_recall_curve\n",
    "from sklearn.metrics import average_precision_score\n",
    "from sklearn.metrics import matthews_corrcoef\n",
    "from sklearn.metrics import confusion_matrix\n",
    "from sklearn.metrics import mean_squared_error\n",
    "from sklearn.metrics import accuracy_score\n",
    "from sklearn.metrics import f1_score\n",
    "\n",
    "from sklearn.preprocessing import MinMaxScaler\n",
    "\n",
    "import numpy as np\n",
    "np.random.seed(123)\n",
    "import numpy.ma as ma\n",
    "\n",
    "import scipy as sp\n",
    "\n",
    "import pandas as pd\n",
    "\n",
    "import theano\n",
    "\n",
    "from keras import backend as K\n",
    "K.set_image_dim_ordering('tf')\n",
    "\n",
    "from keras.models import Sequential\n",
    "from keras.layers import Dense, Dropout, Activation, Flatten, Reshape, Input\n",
    "from keras.utils import np_utils\n",
    "from keras.utils.np_utils import to_categorical\n",
    "from keras.layers.convolutional import Conv2D, MaxPooling2D\n",
    "from keras.layers import LSTM\n",
    "from keras.layers.wrappers import TimeDistributed\n",
    "from keras.models import Model\n",
    "\n",
    "import os\n",
    "import gc\n",
    "\n",
    "raster = 200\n",
    "crime_type = \"E05\"\n",
    "date_from = \"2013-06-16\"\n",
    "date_to = \"2017-03-08\"\n",
    "dist = 5\n",
    "\n",
    "# insert main dir\n",
    "main_dir = \"\""
   ]
  },
  {
   "cell_type": "code",
   "execution_count": null,
   "metadata": {
    "collapsed": true
   },
   "outputs": [],
   "source": [
    "X_train = np.load(\"X_train_feat.npy\")\n",
    "X_validation = np.load(\"X_validation_feat.npy\")\n",
    "\n",
    "y_train = np.load(\"y_train_feat.npy\")\n",
    "y_validation = np.load(\"y_validation_feat.npy\")\n"
   ]
  },
  {
   "cell_type": "code",
   "execution_count": null,
   "metadata": {
    "collapsed": true
   },
   "outputs": [],
   "source": [
    "epochs = 1\n",
    "timesteps = 21\n",
    "batch_size = timesteps\n",
    "\n",
    "result_file_dir = \"%s/output/python/model_results.csv\" % main_dir\n",
    "data_id = \"tm_neigh_data\"\n",
    "        \n",
    "def train_test_model_save_results_crnn(model, model_id):\n",
    "    model.fit(X_train,\n",
    "          y_train,\n",
    "          batch_size=batch_size,\n",
    "          epochs=epochs,\n",
    "          validation_data=(X_validation, y_validation))\n",
    "    \n",
    "    save_dir_model = \"%s/output/python/keras/models/%s_%s.h5\" % (main_dir, model_id, data_id)\n",
    "    model.save(save_dir_model)\n",
    "\n",
    "    return model"
   ]
  },
  {
   "cell_type": "code",
   "execution_count": null,
   "metadata": {
    "collapsed": true
   },
   "outputs": [],
   "source": [
    "# Model 15 feat\n",
    "# number of convolutional filters\n",
    "n_filters = 8\n",
    "\n",
    "# convolution filter size\n",
    "n_conv = 2\n",
    "\n",
    "# pooling window size\n",
    "n_pool = 2\n",
    "\n",
    "model=Sequential();      \n",
    "\n",
    "model.add(TimeDistributed(Conv2D(n_filters, (n_conv, n_conv), padding='same'), input_shape=X_train.shape[1:]))\n",
    "model.add(TimeDistributed(Activation('relu')))\n",
    "model.add(TimeDistributed(Conv2D(n_filters, (n_conv, n_conv))))\n",
    "model.add(TimeDistributed(Activation('relu')))\n",
    "model.add(TimeDistributed(MaxPooling2D(pool_size=(n_pool, n_pool))))\n",
    "model.add(TimeDistributed(Dropout(0.15)))\n",
    "\n",
    "model.add(TimeDistributed(Flatten()))\n",
    "model.add(TimeDistributed(Dense(512)))                \n",
    "        \n",
    "model.add(LSTM(100, return_sequences=True, name=\"lstm_layer1\"));\n",
    "\n",
    "model.add(TimeDistributed(Dense(100)))\n",
    "model.add(TimeDistributed(Dense(100)))\n",
    "model.add(TimeDistributed(Dense(100)))\n",
    "\n",
    "model.add(TimeDistributed(Dropout(0.15)))\n",
    "         \n",
    "model.add(TimeDistributed(Dense(1), name=\"time_distr_dense_one\"))\n",
    "model.add(TimeDistributed(Activation('sigmoid')))\n",
    "\n",
    "model.compile(loss='binary_crossentropy',\n",
    "              optimizer='adam',\n",
    "              metrics=['binary_accuracy'])\n",
    "\n",
    "print(model.summary())\n",
    "\n",
    "trained_model = train_test_model_save_results_crnn(model, 'crnn_15_feat')\n",
    "print(\"Done.\")"
   ]
  },
  {
   "cell_type": "code",
   "execution_count": null,
   "metadata": {
    "collapsed": true
   },
   "outputs": [],
   "source": [
    "from keras.models import load_model\n",
    "load_dir_model = \"%s/output/python/keras/models/crnn_15_feat_tm_neigh_data.h5\" % (main_dir)\n",
    "model = load_model(load_dir_model)\n",
    "\n",
    "X_train = np.load(\"X_train_feat.npy\")\n",
    "\n",
    "timesteps = 21\n",
    "image_size = 2*dist +1"
   ]
  },
  {
   "cell_type": "code",
   "execution_count": null,
   "metadata": {
    "collapsed": true
   },
   "outputs": [],
   "source": [
    "predictions = model.predict(X_train)\n",
    "predictions = predictions.reshape(predictions.shape[0] * predictions.shape[1])\n",
    "predictions.shape"
   ]
  },
  {
   "cell_type": "code",
   "execution_count": null,
   "metadata": {
    "collapsed": true
   },
   "outputs": [],
   "source": [
    "image_size = 2*dist +1\n",
    "\n",
    "# Show filters\n",
    "instance = X_train[46000:]\n",
    "instance = instance.astype('float32').reshape(1, instance.shape[0], timesteps, image_size, image_size)\n",
    "\n",
    "layers = [12]\n",
    "get_features = K.function([model.layers[0].input, K.learning_phase()], [model.layers[l].output for l in layers])\n",
    "feature_maps = get_features([instance,1])"
   ]
  },
  {
   "cell_type": "code",
   "execution_count": null,
   "metadata": {
    "collapsed": true
   },
   "outputs": [],
   "source": [
    "np.save(\"crnn_feat_data_3.npy\", instance)"
   ]
  },
  {
   "cell_type": "code",
   "execution_count": null,
   "metadata": {
    "collapsed": true
   },
   "outputs": [],
   "source": [
    "instance = X_train[6000]\n",
    "instance = instance.astype('float32').reshape(1, 1, timesteps, image_size, image_size)\n",
    "plt.imshow(instance[0][0][1])\n",
    "plt.show()"
   ]
  }
 ],
 "metadata": {
  "kernelspec": {
   "display_name": "Python 3",
   "language": "python",
   "name": "python3"
  },
  "language_info": {
   "codemirror_mode": {
    "name": "ipython",
    "version": 3
   },
   "file_extension": ".py",
   "mimetype": "text/x-python",
   "name": "python",
   "nbconvert_exporter": "python",
   "pygments_lexer": "ipython3",
   "version": "3.4.3"
  }
 },
 "nbformat": 4,
 "nbformat_minor": 2
}
